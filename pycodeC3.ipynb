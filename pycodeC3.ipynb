{
 "cells": [
  {
   "cell_type": "markdown",
   "id": "2d06a81f-2144-49a4-9b4a-1b5dfa25e3a7",
   "metadata": {},
   "source": [
    "Problem 115\n",
    "1. Variable Swap: Write a Python program to swap the values of two variables without using a temporary variable."
   ]
  },
  {
   "cell_type": "code",
   "execution_count": 5,
   "id": "8dd1b896-8b63-4a55-8191-bfe4e0eb8317",
   "metadata": {},
   "outputs": [
    {
     "name": "stdout",
     "output_type": "stream",
     "text": [
      "a = 10\n",
      "b = 100\n"
     ]
    }
   ],
   "source": [
    "a=100\n",
    "b=10\n",
    "[a, b] =[b, a]\n",
    "print(\"a =\", a)\n",
    "print(\"b =\", b)"
   ]
  },
  {
   "cell_type": "code",
   "execution_count": null,
   "id": "f8919b45-a48d-4fa3-9d6a-c33729b65abf",
   "metadata": {},
   "outputs": [],
   "source": [
    "2. Even or Odd: Write a Python program that takes an integer as input and prints whether it is even or odd."
   ]
  },
  {
   "cell_type": "code",
   "execution_count": null,
   "id": "d6ad9294-a752-4c14-b5c2-41e18835de18",
   "metadata": {},
   "outputs": [],
   "source": [
    "x"
   ]
  },
  {
   "cell_type": "code",
   "execution_count": null,
   "id": "7e385cff-3833-43c3-8e67-ed9821e14ed5",
   "metadata": {},
   "outputs": [],
   "source": []
  }
 ],
 "metadata": {
  "kernelspec": {
   "display_name": "Python 3 (ipykernel)",
   "language": "python",
   "name": "python3"
  },
  "language_info": {
   "codemirror_mode": {
    "name": "ipython",
    "version": 3
   },
   "file_extension": ".py",
   "mimetype": "text/x-python",
   "name": "python",
   "nbconvert_exporter": "python",
   "pygments_lexer": "ipython3",
   "version": "3.12.1"
  }
 },
 "nbformat": 4,
 "nbformat_minor": 5
}
