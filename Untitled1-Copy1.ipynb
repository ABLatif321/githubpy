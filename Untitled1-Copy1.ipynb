{
 "cells": [
  {
   "cell_type": "code",
   "execution_count": 13,
   "id": "59f613cf",
   "metadata": {},
   "outputs": [
    {
     "data": {
      "text/html": [
       "<div>\n",
       "<style scoped>\n",
       "    .dataframe tbody tr th:only-of-type {\n",
       "        vertical-align: middle;\n",
       "    }\n",
       "\n",
       "    .dataframe tbody tr th {\n",
       "        vertical-align: top;\n",
       "    }\n",
       "\n",
       "    .dataframe thead th {\n",
       "        text-align: right;\n",
       "    }\n",
       "</style>\n",
       "<table border=\"1\" class=\"dataframe\">\n",
       "  <thead>\n",
       "    <tr style=\"text-align: right;\">\n",
       "      <th></th>\n",
       "      <th>time</th>\n",
       "      <th>header.seq</th>\n",
       "      <th>header.stamp</th>\n",
       "      <th>header.frame_id</th>\n",
       "      <th>x</th>\n",
       "      <th>y</th>\n",
       "      <th>z</th>\n",
       "      <th>a</th>\n",
       "      <th>b</th>\n",
       "      <th>c</th>\n",
       "      <th>w</th>\n",
       "    </tr>\n",
       "  </thead>\n",
       "  <tbody>\n",
       "    <tr>\n",
       "      <th>0</th>\n",
       "      <td>1.658920e+18</td>\n",
       "      <td>234</td>\n",
       "      <td>2.183750e+12</td>\n",
       "      <td>/map</td>\n",
       "      <td>-0.713282</td>\n",
       "      <td>0.912977</td>\n",
       "      <td>-2.016558</td>\n",
       "      <td>-0.020285</td>\n",
       "      <td>0.019293</td>\n",
       "      <td>-0.483007</td>\n",
       "      <td>0.875169</td>\n",
       "    </tr>\n",
       "    <tr>\n",
       "      <th>1</th>\n",
       "      <td>1.658920e+18</td>\n",
       "      <td>235</td>\n",
       "      <td>2.183800e+12</td>\n",
       "      <td>/map</td>\n",
       "      <td>-0.707120</td>\n",
       "      <td>0.912909</td>\n",
       "      <td>-2.011848</td>\n",
       "      <td>-0.020365</td>\n",
       "      <td>0.019252</td>\n",
       "      <td>-0.482894</td>\n",
       "      <td>0.875230</td>\n",
       "    </tr>\n",
       "    <tr>\n",
       "      <th>2</th>\n",
       "      <td>1.658920e+18</td>\n",
       "      <td>236</td>\n",
       "      <td>2.183850e+12</td>\n",
       "      <td>/map</td>\n",
       "      <td>-0.709420</td>\n",
       "      <td>0.913205</td>\n",
       "      <td>-2.014002</td>\n",
       "      <td>-0.020314</td>\n",
       "      <td>0.019264</td>\n",
       "      <td>-0.482959</td>\n",
       "      <td>0.875195</td>\n",
       "    </tr>\n",
       "    <tr>\n",
       "      <th>3</th>\n",
       "      <td>1.658920e+18</td>\n",
       "      <td>237</td>\n",
       "      <td>2.183900e+12</td>\n",
       "      <td>/map</td>\n",
       "      <td>-0.706959</td>\n",
       "      <td>0.916251</td>\n",
       "      <td>-2.008619</td>\n",
       "      <td>-0.020375</td>\n",
       "      <td>0.019357</td>\n",
       "      <td>-0.482834</td>\n",
       "      <td>0.875261</td>\n",
       "    </tr>\n",
       "    <tr>\n",
       "      <th>4</th>\n",
       "      <td>1.658920e+18</td>\n",
       "      <td>238</td>\n",
       "      <td>2.183950e+12</td>\n",
       "      <td>/map</td>\n",
       "      <td>-0.710376</td>\n",
       "      <td>0.912002</td>\n",
       "      <td>-2.012000</td>\n",
       "      <td>-0.020390</td>\n",
       "      <td>0.019377</td>\n",
       "      <td>-0.482969</td>\n",
       "      <td>0.875185</td>\n",
       "    </tr>\n",
       "  </tbody>\n",
       "</table>\n",
       "</div>"
      ],
      "text/plain": [
       "           time  header.seq  header.stamp header.frame_id         x         y  \\\n",
       "0  1.658920e+18         234  2.183750e+12            /map -0.713282  0.912977   \n",
       "1  1.658920e+18         235  2.183800e+12            /map -0.707120  0.912909   \n",
       "2  1.658920e+18         236  2.183850e+12            /map -0.709420  0.913205   \n",
       "3  1.658920e+18         237  2.183900e+12            /map -0.706959  0.916251   \n",
       "4  1.658920e+18         238  2.183950e+12            /map -0.710376  0.912002   \n",
       "\n",
       "          z         a         b         c         w  \n",
       "0 -2.016558 -0.020285  0.019293 -0.483007  0.875169  \n",
       "1 -2.011848 -0.020365  0.019252 -0.482894  0.875230  \n",
       "2 -2.014002 -0.020314  0.019264 -0.482959  0.875195  \n",
       "3 -2.008619 -0.020375  0.019357 -0.482834  0.875261  \n",
       "4 -2.012000 -0.020390  0.019377 -0.482969  0.875185  "
      ]
     },
     "execution_count": 13,
     "metadata": {},
     "output_type": "execute_result"
    }
   ],
   "source": [
    "import numpy as np\n",
    "import seaborn as sns\n",
    "from matplotlib import pyplot as plt\n",
    "import pandas as pd\n",
    "df = pd.read_csv('C:/Users/USER/Desktop/clusterexam/ndt_pose.csv')\n",
    "df.head()"
   ]
  },
  {
   "cell_type": "code",
   "execution_count": 14,
   "id": "52c50b33",
   "metadata": {},
   "outputs": [
    {
     "data": {
      "text/plain": [
       "0    234\n",
       "1    235\n",
       "2    236\n",
       "3    237\n",
       "4    238\n",
       "Name: header.seq, dtype: int64"
      ]
     },
     "execution_count": 14,
     "metadata": {},
     "output_type": "execute_result"
    }
   ],
   "source": [
    "df['header.seq'].head() "
   ]
  },
  {
   "cell_type": "code",
   "execution_count": 15,
   "id": "545e9ac5",
   "metadata": {},
   "outputs": [
    {
     "data": {
      "text/plain": [
       "0    2.183750e+12\n",
       "1    2.183800e+12\n",
       "2    2.183850e+12\n",
       "3    2.183900e+12\n",
       "4    2.183950e+12\n",
       "Name: header.stamp, dtype: float64"
      ]
     },
     "execution_count": 15,
     "metadata": {},
     "output_type": "execute_result"
    }
   ],
   "source": [
    "df['header.stamp'].head() "
   ]
  },
  {
   "cell_type": "code",
   "execution_count": 16,
   "id": "7f6fe274",
   "metadata": {},
   "outputs": [
    {
     "data": {
      "text/plain": [
       "0   -0.713282\n",
       "1   -0.707120\n",
       "2   -0.709420\n",
       "3   -0.706959\n",
       "4   -0.710376\n",
       "Name: x, dtype: float64"
      ]
     },
     "execution_count": 16,
     "metadata": {},
     "output_type": "execute_result"
    }
   ],
   "source": [
    "df['x'].head()"
   ]
  },
  {
   "cell_type": "code",
   "execution_count": 17,
   "id": "10a38383",
   "metadata": {},
   "outputs": [
    {
     "data": {
      "text/plain": [
       "0    0.912977\n",
       "1    0.912909\n",
       "2    0.913205\n",
       "3    0.916251\n",
       "4    0.912002\n",
       "Name: y, dtype: float64"
      ]
     },
     "execution_count": 17,
     "metadata": {},
     "output_type": "execute_result"
    }
   ],
   "source": [
    "df['y'].head()"
   ]
  },
  {
   "cell_type": "code",
   "execution_count": 19,
   "id": "24e568d0",
   "metadata": {},
   "outputs": [
    {
     "data": {
      "text/plain": [
       "0   -2.016558\n",
       "1   -2.011848\n",
       "2   -2.014002\n",
       "3   -2.008619\n",
       "4   -2.012000\n",
       "Name: z, dtype: float64"
      ]
     },
     "execution_count": 19,
     "metadata": {},
     "output_type": "execute_result"
    }
   ],
   "source": [
    "df['z'].head()"
   ]
  },
  {
   "cell_type": "code",
   "execution_count": 20,
   "id": "de8337a7",
   "metadata": {},
   "outputs": [
    {
     "data": {
      "text/plain": [
       "0   -0.020285\n",
       "1   -0.020365\n",
       "2   -0.020314\n",
       "3   -0.020375\n",
       "4   -0.020390\n",
       "Name: a, dtype: float64"
      ]
     },
     "execution_count": 20,
     "metadata": {},
     "output_type": "execute_result"
    }
   ],
   "source": [
    "df['a'].head()"
   ]
  },
  {
   "cell_type": "code",
   "execution_count": 21,
   "id": "d13d10c7",
   "metadata": {},
   "outputs": [
    {
     "data": {
      "text/plain": [
       "0    0.019293\n",
       "1    0.019252\n",
       "2    0.019264\n",
       "3    0.019357\n",
       "4    0.019377\n",
       "Name: b, dtype: float64"
      ]
     },
     "execution_count": 21,
     "metadata": {},
     "output_type": "execute_result"
    }
   ],
   "source": [
    "df['b'].head()"
   ]
  },
  {
   "cell_type": "code",
   "execution_count": 22,
   "id": "339aa103",
   "metadata": {},
   "outputs": [
    {
     "data": {
      "text/plain": [
       "0   -0.483007\n",
       "1   -0.482894\n",
       "2   -0.482959\n",
       "3   -0.482834\n",
       "4   -0.482969\n",
       "Name: c, dtype: float64"
      ]
     },
     "execution_count": 22,
     "metadata": {},
     "output_type": "execute_result"
    }
   ],
   "source": [
    "df['c'].head()"
   ]
  },
  {
   "cell_type": "code",
   "execution_count": 23,
   "id": "5a7cec57",
   "metadata": {},
   "outputs": [
    {
     "data": {
      "text/plain": [
       "0    0.875169\n",
       "1    0.875230\n",
       "2    0.875195\n",
       "3    0.875261\n",
       "4    0.875185\n",
       "Name: w, dtype: float64"
      ]
     },
     "execution_count": 23,
     "metadata": {},
     "output_type": "execute_result"
    }
   ],
   "source": [
    "df['w'].head()"
   ]
  },
  {
   "cell_type": "code",
   "execution_count": 24,
   "id": "34a5a118",
   "metadata": {},
   "outputs": [
    {
     "data": {
      "text/plain": [
       "array([[-0.71328163, -0.70712036, -0.70941961, ...,  0.52969122,\n",
       "         0.52408701,  0.5294745 ],\n",
       "       [ 0.9129765 ,  0.91290909,  0.91320491, ..., -0.67735618,\n",
       "        -0.68085325, -0.67763996],\n",
       "       [-2.01655841, -2.01184821, -2.01400232, ..., -2.02724385,\n",
       "        -2.02733016, -2.02836514]])"
      ]
     },
     "execution_count": 24,
     "metadata": {},
     "output_type": "execute_result"
    }
   ],
   "source": [
    "v= np.array([df['x'],df['y'],df['z']])\n",
    "v"
   ]
  },
  {
   "cell_type": "code",
   "execution_count": 124,
   "id": "23ecb1be",
   "metadata": {},
   "outputs": [],
   "source": [
    "#v1=np.transpose(v)"
   ]
  },
  {
   "cell_type": "code",
   "execution_count": 32,
   "id": "f37e3d37",
   "metadata": {},
   "outputs": [],
   "source": [
    "import numpy as np\n",
    "import math as m\n",
    "  \n",
    "def Rx(a):\n",
    "  return np.matrix([[ 1, 0           , 0           ],\n",
    "                   [ 0, m.cos(a),-m.sin(a)],\n",
    "                   [ 0, m.sin(a), m.cos(a)]])\n",
    "  \n",
    "def Ry(b):\n",
    "  return np.matrix([[ m.cos(b), 0, m.sin(b)],\n",
    "                   [ 0           , 1, 0           ],\n",
    "                   [-m.sin(b), 0, m.cos(b)]])\n",
    "  \n",
    "def Rz(c):\n",
    "  return np.matrix([[ m.cos(c), -m.sin(c), 0 ],\n",
    "                   [ m.sin(c), m.cos(c) , 0 ],\n",
    "                   [ 0           , 0            , 1 ]])"
   ]
  },
  {
   "cell_type": "code",
   "execution_count": 31,
   "id": "5f1808cd",
   "metadata": {},
   "outputs": [
    {
     "data": {
      "text/plain": [
       "(9886, 11)"
      ]
     },
     "execution_count": 31,
     "metadata": {},
     "output_type": "execute_result"
    }
   ],
   "source": [
    "df.shape"
   ]
  },
  {
   "cell_type": "code",
   "execution_count": 30,
   "id": "d3fd5b50",
   "metadata": {},
   "outputs": [
    {
     "data": {
      "image/png": "[encoded data removed]",
      "text/plain": [
       "<Figure size 640x480 with 1 Axes>"
      ]
     },
     "metadata": {},
     "output_type": "display_data"
    }
   ],
   "source": [
    "plt.scatter(df['time'], df['x'], df['w'])\n",
    "plt.show()"
   ]
  },
  {
   "cell_type": "code",
   "execution_count": null,
   "id": "65c06e51",
   "metadata": {},
   "outputs": [],
   "source": []
  },
  {
   "cell_type": "code",
   "execution_count": null,
   "id": "5a08555a",
   "metadata": {},
   "outputs": [],
   "source": []
  }
 ],
 "metadata": {
  "kernelspec": {
   "display_name": "Python 3 (ipykernel)",
   "language": "python",
   "name": "python3"
  },
  "language_info": {
   "codemirror_mode": {
    "name": "ipython",
    "version": 3
   },
   "file_extension": ".py",
   "mimetype": "text/x-python",
   "name": "python",
   "nbconvert_exporter": "python",
   "pygments_lexer": "ipython3",
   "version": "3.11.4"
  }
 },
 "nbformat": 4,
 "nbformat_minor": 5
}
